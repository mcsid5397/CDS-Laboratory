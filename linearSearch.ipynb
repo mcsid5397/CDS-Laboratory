{
 "cells": [
  {
   "cell_type": "markdown",
   "metadata": {},
   "source": [
    "# Practicals - 03082024"
   ]
  },
  {
   "cell_type": "code",
   "execution_count": 6,
   "metadata": {},
   "outputs": [
    {
     "name": "stdout",
     "output_type": "stream",
     "text": [
      "The index of name Praveen is 5\n"
     ]
    }
   ],
   "source": [
    "# creating a class list of 6 names and searching for a specified string in the list and printing its index\n",
    "class_list = [\n",
    "      \"Rocksi\",\n",
    "      \"Shamitha\",\n",
    "      \"Sanjana\",\n",
    "      \"Yuvan Krishnan\",\n",
    "      \"Hariharan\",\n",
    "      \"Praveen\"\n",
    "]\n",
    "\n",
    "# asigning value into variable named 'find'\n",
    "find = input (\"Enter a name of 6: \")\n",
    "\n",
    "# traversing within the list in finding a match \n",
    "for index in range(len(class_list)):\n",
    "        # \n",
    "        if find == class_list[index]:\n",
    "            print(\"The index of name\",find,\"is\",index)\n",
    "if find not in class_list:\n",
    "    print(\"Enter a propoer value\")"
   ]
  },
  {
   "cell_type": "code",
   "execution_count": null,
   "metadata": {},
   "outputs": [],
   "source": [
    "\n",
    "''' find = input (\"Enter a value: \")\n",
    "for index in range(len(class_list)):\n",
    "        if find == class_list[index]:\n",
    "            print(\"The index of name\",find,\"is\",index)\n",
    "if find not in class_list:\n",
    "    print(\"Enter a propoer value\")\n",
    "'''"
   ]
  }
 ],
 "metadata": {
  "kernelspec": {
   "display_name": "Python 3",
   "language": "python",
   "name": "python3"
  },
  "language_info": {
   "codemirror_mode": {
    "name": "ipython",
    "version": 3
   },
   "file_extension": ".py",
   "mimetype": "text/x-python",
   "name": "python",
   "nbconvert_exporter": "python",
   "pygments_lexer": "ipython3",
   "version": "3.12.0"
  }
 },
 "nbformat": 4,
 "nbformat_minor": 2
}
